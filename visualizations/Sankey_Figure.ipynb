{
  "cells": [
    {
      "cell_type": "code",
      "execution_count": null,
      "id": "20a295a7-5e29-49cd-99d3-2e88edd8bda9",
      "metadata": {
        "id": "20a295a7-5e29-49cd-99d3-2e88edd8bda9",
        "outputId": "7d1afac8-3b55-4b10-9512-9a28060829b5"
      },
      "outputs": [
        {
          "ename": "ModuleNotFoundError",
          "evalue": "No module named 'folium'",
          "output_type": "error",
          "traceback": [
            "\u001b[1;31m---------------------------------------------------------------------------\u001b[0m",
            "\u001b[1;31mModuleNotFoundError\u001b[0m                       Traceback (most recent call last)",
            "Cell \u001b[1;32mIn[2], line 6\u001b[0m\n\u001b[0;32m      3\u001b[0m \u001b[38;5;28;01mimport\u001b[39;00m \u001b[38;5;21;01mtime\u001b[39;00m\n\u001b[0;32m      4\u001b[0m \u001b[38;5;28;01mfrom\u001b[39;00m \u001b[38;5;21;01mtextwrap\u001b[39;00m \u001b[38;5;28;01mimport\u001b[39;00m wrap\n\u001b[1;32m----> 6\u001b[0m \u001b[38;5;28;01mimport\u001b[39;00m \u001b[38;5;21;01mfolium\u001b[39;00m  \u001b[38;5;66;03m# plot maps\u001b[39;00m\n\u001b[0;32m      7\u001b[0m \u001b[38;5;28;01mimport\u001b[39;00m \u001b[38;5;21;01mmatplotlib\u001b[39;00m\u001b[38;5;21;01m.\u001b[39;00m\u001b[38;5;21;01mdates\u001b[39;00m \u001b[38;5;28;01mas\u001b[39;00m \u001b[38;5;21;01mmdates\u001b[39;00m\n\u001b[0;32m      8\u001b[0m \u001b[38;5;28;01mimport\u001b[39;00m \u001b[38;5;21;01mmatplotlib\u001b[39;00m\u001b[38;5;21;01m.\u001b[39;00m\u001b[38;5;21;01mpyplot\u001b[39;00m \u001b[38;5;28;01mas\u001b[39;00m \u001b[38;5;21;01mplt\u001b[39;00m\n",
            "\u001b[1;31mModuleNotFoundError\u001b[0m: No module named 'folium'"
          ]
        }
      ],
      "source": [
        "#!pip install folium\n",
        "import math\n",
        "import time\n",
        "from textwrap import wrap\n",
        "\n",
        "import folium  # plot maps\n",
        "import matplotlib.dates as mdates\n",
        "import matplotlib.pyplot as plt\n",
        "import numpy as np\n",
        "import pandas as pd\n",
        "import plotly.graph_objects as go\n",
        "import plotly.graph_objs as go\n",
        "import yaml\n",
        "from branca.element import Figure, MacroElement, Template\n",
        "from folium import Choropleth, Circle, Marker\n",
        "from folium.plugins import HeatMap, MarkerCluster\n",
        "from matplotlib.ticker import FormatStrFormatter\n",
        "from plotly.offline import download_plotlyjs, init_notebook_mode, iplot, plot\n",
        "from pytz import timezone\n"
      ]
    },
    {
      "cell_type": "markdown",
      "id": "37305285-5308-494e-8a40-9e4b65082d86",
      "metadata": {
        "id": "37305285-5308-494e-8a40-9e4b65082d86"
      },
      "source": [
        "# Load credentials"
      ]
    },
    {
      "cell_type": "code",
      "execution_count": null,
      "id": "4b452591-4a93-4bec-a936-d10247ab3595",
      "metadata": {
        "id": "4b452591-4a93-4bec-a936-d10247ab3595"
      },
      "outputs": [],
      "source": [
        "df_processed = pd.read_csv(\"sankey_plot.csv\")\n",
        "print(df_processed.shape)\n",
        "print(df_processed.columns)"
      ]
    },
    {
      "cell_type": "markdown",
      "id": "8ed7c132-6944-48d6-89d7-283f621cd97b",
      "metadata": {
        "id": "8ed7c132-6944-48d6-89d7-283f621cd97b"
      },
      "source": [
        "# Sankey\n",
        "\n",
        "Resources:\n",
        "- official documentation: https://plotly.com/python/sankey-diagram/\n",
        "- stackoverflow example: https://stackoverflow.com/questions/50486767/plotly-how-to-draw-a-sankey-diagram-from-a-dataframe\n",
        "\n",
        "Questions from Phase 2 (miro board: https://miro.com/app/board/uXjVOERypao=/)"
      ]
    },
    {
      "cell_type": "code",
      "execution_count": null,
      "id": "06d9f121-6a9d-4100-9a33-ec4557016770",
      "metadata": {
        "id": "06d9f121-6a9d-4100-9a33-ec4557016770"
      },
      "outputs": [],
      "source": [
        "# find weight of links between nodes\n",
        "print(\"q0 -> q1\")\n",
        "print(\n",
        "    df_processed.groupby(\n",
        "        [\"ws_category\", \"ws_value\"]\n",
        "    )[\"ws_value\"].count()\n",
        ")\n",
        "print(\"\\n\")\n",
        "print(\"q1 -> q2\")\n",
        "print(\n",
        "    df_processed.groupby([\"ws_value\", \"ws_initiation\"])[\n",
        "        \"ws_initiation\"\n",
        "    ].count()\n",
        ")\n",
        "print(\"\\n\")\n",
        "print(\"q2 -> q3\") \n",
        "print(\n",
        "    df_processed.groupby([\"ws_initiation\", \"ws_focus\"])[\n",
        "        \"ws_initiation\"\n",
        "    ].count()\n",
        ")\n"
      ]
    },
    {
      "cell_type": "code",
      "execution_count": null,
      "id": "70333b31-f624-43c3-87b2-9c3d47c6c03e",
      "metadata": {
        "id": "70333b31-f624-43c3-87b2-9c3d47c6c03e"
      },
      "outputs": [],
      "source": [
        "init_notebook_mode(connected=True)\n",
        "# colors\n",
        "grey = \"rgba(211, 211, 211, 0.5)\"\n",
        "mustard = \"#e0ad58\""
      ]
    },
    {
      "cell_type": "code",
      "execution_count": null,
      "id": "dd45aa71-989e-4c3a-8fe6-52316648891f",
      "metadata": {
        "id": "dd45aa71-989e-4c3a-8fe6-52316648891f"
      },
      "outputs": [],
      "source": [
        "# Nodes\n",
        "nodes = [\n",
        "    [\"ID\", \"Label\", \"Color\"],\n",
        "    [0, \"Collaboration\", \"#4994CE\"],  # q0 ws_category\n",
        "    [1, \"Distraction\", \"#4994CE\"],\n",
        "    [2, \"Wanted Socialization\", \"#4994CE\"],\n",
        "    [3, \"Yes\", \"#8A5988\"],  # q1 ws_value\n",
        "    [4, \"No\", \"#8A5988\"],\n",
        "    [5, \"Yes\", \"#7FC241\"],  # q2 ws_initiation\n",
        "    [6, \"No\", \"#7FC241\"],\n",
        "    [7, \"Yes\", \"#e28743\"],  # q3 ws_focus\n",
        "    [8, \"Yes\", \"#e28743\"],\n",
        "    [9, \"Partially\", \"#e28743\"],\n",
        "    [10, \"No\", \"#e28743\"],\n",
        "]"
      ]
    },
    {
      "cell_type": "code",
      "execution_count": null,
      "id": "57a5b3d6-2a5a-4e9e-9cc8-d34058b0e36c",
      "metadata": {
        "id": "57a5b3d6-2a5a-4e9e-9cc8-d34058b0e36c"
      },
      "outputs": [],
      "source": [
        "# Links\n",
        "links = [\n",
        "    [\"Source\", \"Target\", \"Value\", \"Link Color\"],\n",
        "    # q0 -> q1\n",
        "    # None\n",
        "    # Collaboration\n",
        "    [0, 3, 87, grey],  # Yes\n",
        "    [0, 4, 10, grey],  # No\n",
        "    # Distraction\n",
        "    [1, 3, 23, grey],  # Yes\n",
        "    [1, 4, 63, grey],  # No\n",
        "    # Wanted Socialization\n",
        "    [2, 3, 52, grey],  # Yes\n",
        "    [2, 4, 28, grey],  # No\n",
        "    # q1 -> q2\n",
        "    # Yes\n",
        "    [3, 5, 85, grey],  # Yes\n",
        "    [3, 6, 77, grey],  # No\n",
        "    # No\n",
        "    [4, 5, 30, grey],  # Yes\n",
        "    [4, 6, 71, grey],  # No\n",
        "    # q2 -> q3\n",
        "    # Yes\n",
        "    [5, 8, 41, grey],  # Yes\n",
        "    [5, 9, 16, grey],  # Partially\n",
        "    [5, 10, 58, grey], # No    \n",
        "    # No\n",
        "    [6, 8, 42, grey],  # Yes\n",
        "    [6, 9, 44, grey],  # Partially\n",
        "    [6, 10, 62, grey], # No        \n",
        "]"
      ]
    },
    {
      "cell_type": "code",
      "execution_count": null,
      "id": "58a7684e-cb7b-4eb3-94b4-9b1d6f0d7a20",
      "metadata": {
        "id": "58a7684e-cb7b-4eb3-94b4-9b1d6f0d7a20"
      },
      "outputs": [],
      "source": [
        "# plotting\n",
        "nodes_headers = nodes.pop(0)\n",
        "links_headers = links.pop(0)\n",
        "df_nodes = pd.DataFrame(nodes, columns=nodes_headers)\n",
        "df_links = pd.DataFrame(links, columns=links_headers)\n",
        "\n",
        "# Sankey plot setup\n",
        "data_trace = dict(\n",
        "    type=\"sankey\",\n",
        "    domain=dict(x=[0, 1], y=[0, 1]),\n",
        "    orientation=\"h\",\n",
        "    valueformat=\".0f\",\n",
        "    node=dict(\n",
        "        pad=10,\n",
        "        # thickness = 30,\n",
        "        line=dict(color=\"black\", width=0),\n",
        "        label=df_nodes[\"Label\"].dropna(axis=0, how=\"any\"),\n",
        "        color=df_nodes[\"Color\"],\n",
        "    ),\n",
        "    link=dict(\n",
        "        source=df_links[\"Source\"].dropna(axis=0, how=\"any\"),\n",
        "        target=df_links[\"Target\"].dropna(axis=0, how=\"any\"),\n",
        "        value=df_links[\"Value\"].dropna(axis=0, how=\"any\"),\n",
        "        color=df_links[\"Link Color\"].dropna(axis=0, how=\"any\"),\n",
        "    ),\n",
        ")\n",
        "\n",
        "layout = dict(\n",
        "    # height=772, \n",
        "    font=dict(size=20), \n",
        "    autosize=False,\n",
        "    width=800,\n",
        "    height=750,\n",
        ")\n",
        "\n",
        "fig = go.Figure(\n",
        "    data=[data_trace],\n",
        "    layout=layout,\n",
        ")\n",
        "fig.show()\n",
        "fig.write_image(\"sankey.pdf\")\n"
      ]
    },
    {
      "cell_type": "code",
      "execution_count": null,
      "id": "63cd5d41-60b7-485b-abdb-af190d80920d",
      "metadata": {
        "id": "63cd5d41-60b7-485b-abdb-af190d80920d"
      },
      "outputs": [],
      "source": []
    },
    {
      "cell_type": "code",
      "execution_count": null,
      "id": "6594d647-762b-4970-9ff3-ea24cb83e003",
      "metadata": {
        "id": "6594d647-762b-4970-9ff3-ea24cb83e003"
      },
      "outputs": [],
      "source": []
    },
    {
      "cell_type": "code",
      "execution_count": null,
      "id": "158d4965-2b76-4fbf-94d4-e78cf543150d",
      "metadata": {
        "id": "158d4965-2b76-4fbf-94d4-e78cf543150d"
      },
      "outputs": [],
      "source": []
    },
    {
      "cell_type": "code",
      "execution_count": null,
      "id": "78ef72c3-402a-4662-a788-14ba68132390",
      "metadata": {
        "id": "78ef72c3-402a-4662-a788-14ba68132390"
      },
      "outputs": [],
      "source": []
    },
    {
      "cell_type": "code",
      "execution_count": null,
      "id": "f118c2f5-ea69-49ab-aef9-41d88a174a33",
      "metadata": {
        "id": "f118c2f5-ea69-49ab-aef9-41d88a174a33"
      },
      "outputs": [],
      "source": []
    }
  ],
  "metadata": {
    "kernelspec": {
      "display_name": "Python 3 (ipykernel)",
      "language": "python",
      "name": "python3"
    },
    "language_info": {
      "codemirror_mode": {
        "name": "ipython",
        "version": 3
      },
      "file_extension": ".py",
      "mimetype": "text/x-python",
      "name": "python",
      "nbconvert_exporter": "python",
      "pygments_lexer": "ipython3",
      "version": "3.10.9"
    },
    "colab": {
      "provenance": []
    }
  },
  "nbformat": 4,
  "nbformat_minor": 5
}